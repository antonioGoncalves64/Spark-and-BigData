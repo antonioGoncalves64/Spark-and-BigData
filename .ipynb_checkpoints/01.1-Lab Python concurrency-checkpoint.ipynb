{
 "cells": [
  {
   "cell_type": "raw",
   "metadata": {},
   "source": [
    "<img src=\"images/spark.png\" alt=\"drawing\" width=\"200\"/>\n",
    "\n",
    "# Lab RDD Análise de Rating de filmes\n",
    "\n",
    "\n"
   ]
  },
  {
   "cell_type": "markdown",
   "metadata": {},
   "source": [
    "## Introdução\n",
    "\n",
    "Pretendemos obter um resumo das classificações de filmes a partir do ficheiro (ratings.csv) que contem milhares de dados de classificações de filmes. No final pretendemos obter um histograma da classficações dos filmes a partir do ficheiro  **ratings.csv**.\n",
    "\n",
    "O ficheiro **ratings.csv**  está disponível para consulta em [movielens](https://grouplens.org/datasets/movielens/) e é composto por um conjunto de dados e que contém a  25 milhões de classificações realizadas a 62.000 filmes por 162.000 utilizadores. Onde cada linha representa o números de filmes que forma \n",
    "\n",
    "\n",
    "\n",
    "\n",
    "\n",
    "\n",
    "\n"
   ]
  },
  {
   "cell_type": "markdown",
   "metadata": {},
   "source": [
    "## Formatação e Codificação\n",
    "\n",
    "\n",
    "O ficheiro do conjunto de dados é escrito como um ficheiro de valores separados por vírgulas com uma única linha de cabeçalho. Estes ficheiros são codificados como UTF-8. Se os caracteres acentuados em títulos de filmes  (por exemplo, Misérables, Les (1995)) forem apresentados incorrectamente, certifique-se de que qualquer programa que leia os dados, como um editor de texto, terminal, ou script, está configurado para UTF-8.\n",
    "\n",
    "* **Ids do utilizador.** Os utilizadores de MovieLens foram seleccionados ao acaso para inclusão. Os seus identificadores foram anonimizados. \n",
    "\n",
    "* **Ids de filmes.** Só estão incluídos no conjunto de dados filmes com pelo menos uma classificação ou etiqueta. Estes ids de filmes são consistentes com os utilizados no sítio web do MovieLens (por exemplo, id 1 corresponde ao URL https://movielens.org/movies/1).\n",
    "\n",
    "* **Classificações dos filmes.** Todas as classificações estão contidas no ficheiro **ratings.csv**. Este ficheiro possui uma linha de cabeçalho seguido de vários registo de  rating dispostos em linha. Cada registo  tem o seguinte formato: **id do utilizador, id de filme, classificações (rating), carimbos temporais (timestamp).** As classificações (rating)  são feitas numa escala de 5 estrelas, com incrementos de meia estrela (0,5 estrelas - 5,0 estrelas). Os carimbos temporais representam segundos desde a meia-noite do Tempo Universal Coordenado (UTC) de 1 de Janeiro de 1970.\n",
    "\n",
    "A figura seguinte apresenta as primeiras 4 linhas do ficheiro **ratings.csv**:\n",
    "\n",
    "\n",
    "* Linha1: userId,movieId,rating,timestamp\n",
    "* Linha2: 1,296,5.0,1147880044\n",
    "* Linha3:1,306,3.5,1147868817\n",
    "* Linha4:1,307,5.0,1147868828"
   ]
  },
  {
   "cell_type": "markdown",
   "metadata": {},
   "source": [
    "## Trabalho que deve ser realizado\n",
    "\n",
    "A partir dos registo de votações contidas no ficheiro **ratings.csv** pretendemos no final obter um histograma, também conhecido como distribuição de frequências, dos ratings totais. Em seguida é apresentado um exemplo.\n",
    "\n",
    "* 0.5, 18408\n",
    "* 1.0, 40233\n",
    "* 1.5, 21566\n",
    "* 2.0, 85616\n",
    "* 2.5, 65307\n",
    "* 3.0, 256838\n",
    "* 3.5, 164152\n",
    "* 4.0, 349862\n",
    "* 4.5, 113879\n",
    "* 5.0, 556793"
   ]
  },
  {
   "cell_type": "markdown",
   "metadata": {},
   "source": [
    "## Escreva o seu código aqui"
   ]
  },
  {
   "cell_type": "code",
   "execution_count": 7,
   "metadata": {},
   "outputs": [
    {
     "name": "stderr",
     "output_type": "stream",
     "text": [
      "[Stage 5:>                                                          (0 + 1) / 1]\r"
     ]
    },
    {
     "name": "stdout",
     "output_type": "stream",
     "text": [
      "0.5, 12396\n",
      "1.0, 26796\n",
      "1.5, 14815\n",
      "2.0, 59568\n",
      "2.5, 44690\n",
      "3.0, 176963\n",
      "3.5, 110991\n",
      "4.0, 237958\n",
      "4.5, 75423\n",
      "5.0, 127548\n",
      "rating, 1\n"
     ]
    },
    {
     "name": "stderr",
     "output_type": "stream",
     "text": [
      "                                                                                \r"
     ]
    }
   ],
   "source": [
    "from pyspark import SparkConf \n",
    "from pyspark.context import SparkContext \n",
    "import collections\n",
    "\n",
    "#Obter o contexto\n",
    "sc = SparkContext.getOrCreate(SparkConf().setMaster(\"local[*]\").setAppName(\"RatingsHistogram\"))\n",
    "\n",
    "\n",
    "lines = sc.textFile(\"./files/ratings.csv\") # sample data  is upload do colab at content directory\n",
    "ratings = lines.map(lambda x: x.split(\",\")[2])\n",
    "\n",
    "result = ratings.countByValue()\n",
    "\n",
    "sortedResults = collections.OrderedDict(sorted(result.items()))\n",
    "for key, value in sortedResults.items():\n",
    "    print(F\"{key}, {value:d}\")\n"
   ]
  },
  {
   "cell_type": "code",
   "execution_count": null,
   "metadata": {},
   "outputs": [],
   "source": []
  }
 ],
 "metadata": {
  "colab": {
   "authorship_tag": "ABX9TyPO1Js+wB+gf1zJ0Yn405Oz",
   "mount_file_id": "12ufX2tXkBxOM9c0k9m3sSpcS4BEMPh1H",
   "provenance": []
  },
  "kernelspec": {
   "display_name": "Python 3 (ipykernel)",
   "language": "python",
   "name": "python3"
  },
  "language_info": {
   "codemirror_mode": {
    "name": "ipython",
    "version": 3
   },
   "file_extension": ".py",
   "mimetype": "text/x-python",
   "name": "python",
   "nbconvert_exporter": "python",
   "pygments_lexer": "ipython3",
   "version": "3.9.12"
  }
 },
 "nbformat": 4,
 "nbformat_minor": 4
}
