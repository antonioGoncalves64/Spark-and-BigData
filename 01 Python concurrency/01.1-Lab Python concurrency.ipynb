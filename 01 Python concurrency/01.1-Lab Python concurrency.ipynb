{
  "cells": [
    {
      "cell_type": "markdown",
      "source": [
        "<img src=\"images/python.png\" alt=\"drawing\" width=\"300\"/>\n",
        "\n",
        "# Lab Processamento Paralelo\n",
        "\n",
        "\n"
      ],
      "metadata": {}
    },
    {
      "cell_type": "markdown",
      "source": [
        "## Introdução\n",
        "\n",
        "Execute os programas propostos e responde as questões\n",
        "\n",
        "\n",
        "\n",
        "\n",
        "\n",
        "\n",
        "\n"
      ],
      "metadata": {}
    },
    {
      "cell_type": "markdown",
      "source": [
        "# Programas I/O Bound"
      ],
      "metadata": {}
    },
    {
      "cell_type": "markdown",
      "source": [
        "## Versão sincrona"
      ],
      "metadata": {}
    },
    {
      "cell_type": "code",
      "source": [
        "# io_bound/synchronous.py\n",
        "import requests\n",
        "import time\n",
        "\n",
        "def get_session():\n",
        "    return requests.Session()\n",
        "\n",
        "def download_site(url):\n",
        "    session = get_session()\n",
        "    with session.get(url) as response:\n",
        "        indicator = \"J\" if \"jython\" in url else \"R\"\n",
        "        print(indicator, sep='', end='', flush=True)\n",
        "\n",
        "def download_all_sites(sites):\n",
        "    for url in sites:\n",
        "        download_site(url)\n",
        "\n",
        "    print()\n",
        "\n",
        "if __name__ == '__main__':\n",
        "    sites = [\n",
        "        \"https://www.jython.org\",\n",
        "        \"http://olympus.realpython.org/dice\",\n",
        "    ] * 80\n",
        "\n",
        "    print(\"Starting downloads\")\n",
        "    start = time.time()\n",
        "    download_all_sites(sites)\n",
        "    duration = time.time() - start\n",
        "    print(f\"Downloaded {len(sites)} sites in {duration} seconds\")\n"
      ],
      "outputs": [],
      "execution_count": null,
      "metadata": {}
    },
    {
      "cell_type": "markdown",
      "source": [
        "### Perguntas:\n",
        " 1. Descreva o funcionamento do programa:\n",
        " 1. Será que cada vez que executa o programa o tempo varia?\n",
        " "
      ],
      "metadata": {}
    },
    {
      "cell_type": "markdown",
      "source": [
        "## Versão asincrona - Uso de thread\n"
      ],
      "metadata": {
        "nteract": {
          "transient": {
            "deleting": false
          }
        }
      }
    },
    {
      "cell_type": "code",
      "source": [
        "# io_bound/threaded.py\n",
        "import concurrent.futures\n",
        "import requests\n",
        "import threading\n",
        "import time\n",
        "\n",
        "thread_local = threading.local()\n",
        "\n",
        "def get_session():\n",
        "    if not hasattr(thread_local, \"session\"):\n",
        "        thread_local.session = requests.Session()\n",
        "\n",
        "    return thread_local.session\n",
        "\n",
        "def download_site(url):\n",
        "    session = get_session()\n",
        "    with session.get(url) as response:\n",
        "        indicator = \"J\" if \"jython\" in url else \"R\"\n",
        "        print(indicator, sep='', end='', flush=True)\n",
        "\n",
        "def download_all_sites(sites):\n",
        "    with concurrent.futures.ThreadPoolExecutor(max_workers=5) as executor:\n",
        "        executor.map(download_site, sites)\n",
        "\n",
        "if __name__ == '__main__':\n",
        "    sites = [\n",
        "        \"https://www.jython.org\",\n",
        "        \"http://olympus.realpython.org/dice\",\n",
        "    ] * 80\n",
        "\n",
        "    print(\"Starting downloads\")\n",
        "    start = time.time()\n",
        "    download_all_sites(sites)\n",
        "    duration = time.time() - start\n",
        "    print(f\"\\nDownloaded {len(sites)} sites in {duration} seconds\")\n"
      ],
      "outputs": [],
      "execution_count": null,
      "metadata": {}
    },
    {
      "cell_type": "markdown",
      "source": [
        "### Perguntas:\n",
        " \n",
        "1. Relativamente a versão sincrona como variou o tempo?. \n",
        "  1. **Resposta** é significativamente mais rápido do que antes - quase dez vezes. \n",
        " 1. Analise o padrão de J e R obtido na saída, relativamente a versão anterior.\n",
        "  1. **Resposta:**  Uma coisa a notar aqui são os padrões do J e R. No programa síncrono, era sempre J depois R, J depois R. Neste programa, não é, e isso é porque as threads ficam à espera durante diferentes períodos de tempo."
      ],
      "metadata": {}
    },
    {
      "cell_type": "markdown",
      "source": [
        "## Condições de Corrida \n",
        "Execute o programa no qual race é chamdo com vários valores de entrada."
      ],
      "metadata": {}
    },
    {
      "cell_type": "code",
      "source": [
        "# io_bound/race.py\n",
        "from concurrent.futures import ThreadPoolExecutor\n",
        "counter = 0\n",
        "\n",
        "def change_counter(amount):\n",
        "    \n",
        "    global counter\n",
        "    for _ in range(1000):\n",
        "        counter += amount\n",
        "\n",
        "def race(num_threads):\n",
        "    global counter\n",
        "    counter = 0\n",
        "    data = [-1 if x %2 else 1 for x in range(1000)]\n",
        "\n",
        "    with ThreadPoolExecutor(max_workers=num_threads) as executor:\n",
        "        executor.map(change_counter, data)\n",
        "\n",
        "    print(counter)\n",
        "\n",
        "if __name__ == \"__main__\":\n",
        "    race(1)\n",
        "    race(1)\n",
        "    race(1)\n",
        "    race(2)\n",
        "    race(2)\n",
        "    race(2)\n",
        "    "
      ],
      "outputs": [],
      "execution_count": null,
      "metadata": {}
    },
    {
      "cell_type": "markdown",
      "source": [
        "### Perguntas:\n",
        " \n",
        "1.Explique o resultados obtidos quando é chamado race(0) \n",
        "\n",
        "1.Explique o resultados obtidos quando é chamado race(2) \n"
      ],
      "metadata": {}
    },
    {
      "cell_type": "code",
      "source": [],
      "outputs": [],
      "execution_count": null,
      "metadata": {}
    },
    {
      "cell_type": "markdown",
      "source": [
        "<img src=\"data:image/png;base64,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\" />"
      ],
      "metadata": {
        "nteract": {
          "transient": {
            "deleting": false
          }
        }
      }
    },
    {
      "cell_type": "markdown",
      "source": [
        "<img src=\"data:image/png;base64,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\" />"
      ],
      "metadata": {
        "nteract": {
          "transient": {
            "deleting": false
          }
        }
      }
    },
    {
      "cell_type": "markdown",
      "source": [
        "# Programas CPU Bound\n",
        "\n",
        "Execute cada um dos seguintes programas e responda as seguintes questões:\n",
        "\n",
        "1. Descreva Porque estes programas são considerados programas CPU Bound e não I/O Bound.\n",
        "  \n",
        "  \n",
        "1. Se executar varias vezes o mesmo programa, verifica alguma alteração no resultado obtido em termos de tempo de execução?. Qual é a sua explicação.\n",
        "  \n",
        "  \n",
        "1. Ordene o tempo de execução de cada dos programas.\n",
        "   \n",
        "   \n",
        "1. Tente aumentar o número de max_workers na versão assincrona. O que verifica em termos de desempenho. \n",
        "   \n",
        "   \n",
        "1.  Apresente uma explicação para a diferença de tempo obtidos.\n",
        "   \n",
        "   "
      ],
      "metadata": {}
    },
    {
      "cell_type": "markdown",
      "source": [
        "## Versão sincrona"
      ],
      "metadata": {}
    },
    {
      "cell_type": "code",
      "source": [
        "# cpu_bound/synchronous.py\n",
        "import time\n",
        "\n",
        "def calculate(limit):\n",
        "    return sum(i * i for i in range(limit))\n",
        "\n",
        "def find_sums(numbers):\n",
        "    for number in numbers:\n",
        "        calculate(number)\n",
        "\n",
        "if __name__ == '__main__':\n",
        "    numbers = [5_000_000 + x for x in range(20)]\n",
        "\n",
        "    print(\"Starting calculation\")\n",
        "    start = time.time()\n",
        "    find_sums(numbers)\n",
        "    duration = time.time() - start\n",
        "    print(f\"Duration {duration} seconds\")\n"
      ],
      "outputs": [],
      "execution_count": null,
      "metadata": {}
    },
    {
      "cell_type": "markdown",
      "source": [
        "## Versão Assincrona"
      ],
      "metadata": {}
    },
    {
      "cell_type": "code",
      "source": [
        "# cpu_bound/threaded.py\n",
        "import concurrent.futures\n",
        "import time\n",
        "\n",
        "def calculate(limit):\n",
        "    return sum(i * i for i in range(limit))\n",
        "\n",
        "def find_sums(numbers):\n",
        "    with concurrent.futures.ThreadPoolExecutor(max_workers=20) as executor:\n",
        "        executor.map(calculate, numbers)\n",
        "\n",
        "if __name__ == '__main__':\n",
        "    numbers = [5_000_000 + x for x in range(20)]\n",
        "\n",
        "    print(\"Starting calculation\")\n",
        "    start = time.time()\n",
        "    find_sums(numbers)\n",
        "    duration = time.time() - start\n",
        "    print(f\"Duration {duration} seconds\")"
      ],
      "outputs": [],
      "execution_count": null,
      "metadata": {}
    },
    {
      "cell_type": "markdown",
      "source": [
        "## Versão com Processos"
      ],
      "metadata": {}
    },
    {
      "cell_type": "code",
      "source": [
        "# cpu_bound/multi.py\n",
        "import multiprocessing\n",
        "import time\n",
        "\n",
        "def calculate(limit):\n",
        "    return sum(i * i for i in range(limit))\n",
        "\n",
        "def find_sums(numbers):\n",
        "    with multiprocessing.Pool() as pool:\n",
        "        pool.map(calculate, numbers)\n",
        "\n",
        "if __name__ == '__main__':\n",
        "    numbers = [5_000_000 + x for x in range(20)]\n",
        "\n",
        "    print(\"Starting calculation\")\n",
        "    start = time.time()\n",
        "    find_sums(numbers)\n",
        "    duration = time.time() - start\n",
        "    print(f\"Duration {duration} seconds\")\n"
      ],
      "outputs": [
        {
          "output_type": "stream",
          "name": "stdout",
          "text": [
            "Starting calculation\n"
          ]
        },
        {
          "output_type": "stream",
          "name": "stderr",
          "text": [
            "Process SpawnPoolWorker-1:\n",
            "Traceback (most recent call last):\n",
            "  File \"/Users/lisboa/opt/anaconda3/lib/python3.9/multiprocessing/process.py\", line 315, in _bootstrap\n",
            "    self.run()\n",
            "  File \"/Users/lisboa/opt/anaconda3/lib/python3.9/multiprocessing/process.py\", line 108, in run\n",
            "    self._target(*self._args, **self._kwargs)\n",
            "  File \"/Users/lisboa/opt/anaconda3/lib/python3.9/multiprocessing/pool.py\", line 114, in worker\n",
            "    task = get()\n",
            "  File \"/Users/lisboa/opt/anaconda3/lib/python3.9/multiprocessing/queues.py\", line 368, in get\n",
            "    return _ForkingPickler.loads(res)\n",
            "AttributeError: Can't get attribute 'calculate' on <module '__main__' (built-in)>\n",
            "Process SpawnPoolWorker-2:\n",
            "Traceback (most recent call last):\n",
            "  File \"/Users/lisboa/opt/anaconda3/lib/python3.9/multiprocessing/process.py\", line 315, in _bootstrap\n",
            "    self.run()\n",
            "  File \"/Users/lisboa/opt/anaconda3/lib/python3.9/multiprocessing/process.py\", line 108, in run\n",
            "    self._target(*self._args, **self._kwargs)\n",
            "  File \"/Users/lisboa/opt/anaconda3/lib/python3.9/multiprocessing/pool.py\", line 114, in worker\n",
            "    task = get()\n",
            "  File \"/Users/lisboa/opt/anaconda3/lib/python3.9/multiprocessing/queues.py\", line 368, in get\n",
            "    return _ForkingPickler.loads(res)\n",
            "AttributeError: Can't get attribute 'calculate' on <module '__main__' (built-in)>\n",
            "Process SpawnPoolWorker-3:\n",
            "Traceback (most recent call last):\n",
            "  File \"/Users/lisboa/opt/anaconda3/lib/python3.9/multiprocessing/process.py\", line 315, in _bootstrap\n",
            "    self.run()\n",
            "  File \"/Users/lisboa/opt/anaconda3/lib/python3.9/multiprocessing/process.py\", line 108, in run\n",
            "    self._target(*self._args, **self._kwargs)\n",
            "  File \"/Users/lisboa/opt/anaconda3/lib/python3.9/multiprocessing/pool.py\", line 114, in worker\n",
            "    task = get()\n",
            "  File \"/Users/lisboa/opt/anaconda3/lib/python3.9/multiprocessing/queues.py\", line 368, in get\n",
            "    return _ForkingPickler.loads(res)\n",
            "AttributeError: Can't get attribute 'calculate' on <module '__main__' (built-in)>\n",
            "Process SpawnPoolWorker-4:\n",
            "Traceback (most recent call last):\n",
            "  File \"/Users/lisboa/opt/anaconda3/lib/python3.9/multiprocessing/process.py\", line 315, in _bootstrap\n",
            "    self.run()\n",
            "  File \"/Users/lisboa/opt/anaconda3/lib/python3.9/multiprocessing/process.py\", line 108, in run\n",
            "    self._target(*self._args, **self._kwargs)\n",
            "  File \"/Users/lisboa/opt/anaconda3/lib/python3.9/multiprocessing/pool.py\", line 114, in worker\n",
            "    task = get()\n",
            "  File \"/Users/lisboa/opt/anaconda3/lib/python3.9/multiprocessing/queues.py\", line 368, in get\n",
            "    return _ForkingPickler.loads(res)\n",
            "AttributeError: Can't get attribute 'calculate' on <module '__main__' (built-in)>\n",
            "Process SpawnPoolWorker-5:\n",
            "Traceback (most recent call last):\n",
            "  File \"/Users/lisboa/opt/anaconda3/lib/python3.9/multiprocessing/process.py\", line 315, in _bootstrap\n",
            "    self.run()\n",
            "  File \"/Users/lisboa/opt/anaconda3/lib/python3.9/multiprocessing/process.py\", line 108, in run\n",
            "    self._target(*self._args, **self._kwargs)\n",
            "  File \"/Users/lisboa/opt/anaconda3/lib/python3.9/multiprocessing/pool.py\", line 114, in worker\n",
            "    task = get()\n",
            "  File \"/Users/lisboa/opt/anaconda3/lib/python3.9/multiprocessing/queues.py\", line 368, in get\n",
            "    return _ForkingPickler.loads(res)\n",
            "AttributeError: Can't get attribute 'calculate' on <module '__main__' (built-in)>\n",
            "Process SpawnPoolWorker-6:\n",
            "Traceback (most recent call last):\n",
            "  File \"/Users/lisboa/opt/anaconda3/lib/python3.9/multiprocessing/process.py\", line 315, in _bootstrap\n",
            "    self.run()\n",
            "  File \"/Users/lisboa/opt/anaconda3/lib/python3.9/multiprocessing/process.py\", line 108, in run\n",
            "    self._target(*self._args, **self._kwargs)\n",
            "  File \"/Users/lisboa/opt/anaconda3/lib/python3.9/multiprocessing/pool.py\", line 114, in worker\n",
            "    task = get()\n",
            "  File \"/Users/lisboa/opt/anaconda3/lib/python3.9/multiprocessing/queues.py\", line 368, in get\n",
            "    return _ForkingPickler.loads(res)\n",
            "AttributeError: Can't get attribute 'calculate' on <module '__main__' (built-in)>\n",
            "Process SpawnPoolWorker-7:\n",
            "Traceback (most recent call last):\n",
            "  File \"/Users/lisboa/opt/anaconda3/lib/python3.9/multiprocessing/process.py\", line 315, in _bootstrap\n",
            "    self.run()\n",
            "  File \"/Users/lisboa/opt/anaconda3/lib/python3.9/multiprocessing/process.py\", line 108, in run\n",
            "    self._target(*self._args, **self._kwargs)\n",
            "  File \"/Users/lisboa/opt/anaconda3/lib/python3.9/multiprocessing/pool.py\", line 114, in worker\n",
            "    task = get()\n",
            "  File \"/Users/lisboa/opt/anaconda3/lib/python3.9/multiprocessing/queues.py\", line 368, in get\n",
            "    return _ForkingPickler.loads(res)\n",
            "AttributeError: Can't get attribute 'calculate' on <module '__main__' (built-in)>\n",
            "Process SpawnPoolWorker-8:\n",
            "Traceback (most recent call last):\n",
            "  File \"/Users/lisboa/opt/anaconda3/lib/python3.9/multiprocessing/process.py\", line 315, in _bootstrap\n",
            "    self.run()\n",
            "  File \"/Users/lisboa/opt/anaconda3/lib/python3.9/multiprocessing/process.py\", line 108, in run\n",
            "    self._target(*self._args, **self._kwargs)\n",
            "  File \"/Users/lisboa/opt/anaconda3/lib/python3.9/multiprocessing/pool.py\", line 114, in worker\n",
            "    task = get()\n",
            "  File \"/Users/lisboa/opt/anaconda3/lib/python3.9/multiprocessing/queues.py\", line 368, in get\n",
            "    return _ForkingPickler.loads(res)\n",
            "AttributeError: Can't get attribute 'calculate' on <module '__main__' (built-in)>\n",
            "Process SpawnPoolWorker-9:\n",
            "Traceback (most recent call last):\n",
            "  File \"/Users/lisboa/opt/anaconda3/lib/python3.9/multiprocessing/process.py\", line 315, in _bootstrap\n",
            "    self.run()\n",
            "  File \"/Users/lisboa/opt/anaconda3/lib/python3.9/multiprocessing/process.py\", line 108, in run\n",
            "    self._target(*self._args, **self._kwargs)\n",
            "  File \"/Users/lisboa/opt/anaconda3/lib/python3.9/multiprocessing/pool.py\", line 114, in worker\n",
            "    task = get()\n",
            "  File \"/Users/lisboa/opt/anaconda3/lib/python3.9/multiprocessing/queues.py\", line 368, in get\n",
            "    return _ForkingPickler.loads(res)\n",
            "AttributeError: Can't get attribute 'calculate' on <module '__main__' (built-in)>\n",
            "Process SpawnPoolWorker-10:\n",
            "Traceback (most recent call last):\n",
            "  File \"/Users/lisboa/opt/anaconda3/lib/python3.9/multiprocessing/process.py\", line 315, in _bootstrap\n",
            "    self.run()\n",
            "  File \"/Users/lisboa/opt/anaconda3/lib/python3.9/multiprocessing/process.py\", line 108, in run\n",
            "    self._target(*self._args, **self._kwargs)\n",
            "  File \"/Users/lisboa/opt/anaconda3/lib/python3.9/multiprocessing/pool.py\", line 114, in worker\n",
            "    task = get()\n",
            "  File \"/Users/lisboa/opt/anaconda3/lib/python3.9/multiprocessing/queues.py\", line 368, in get\n",
            "    return _ForkingPickler.loads(res)\n",
            "AttributeError: Can't get attribute 'calculate' on <module '__main__' (built-in)>\n",
            "Process SpawnPoolWorker-11:\n",
            "Traceback (most recent call last):\n",
            "  File \"/Users/lisboa/opt/anaconda3/lib/python3.9/multiprocessing/process.py\", line 315, in _bootstrap\n",
            "    self.run()\n",
            "  File \"/Users/lisboa/opt/anaconda3/lib/python3.9/multiprocessing/process.py\", line 108, in run\n",
            "    self._target(*self._args, **self._kwargs)\n",
            "  File \"/Users/lisboa/opt/anaconda3/lib/python3.9/multiprocessing/pool.py\", line 114, in worker\n",
            "    task = get()\n",
            "  File \"/Users/lisboa/opt/anaconda3/lib/python3.9/multiprocessing/queues.py\", line 368, in get\n",
            "    return _ForkingPickler.loads(res)\n",
            "AttributeError: Can't get attribute 'calculate' on <module '__main__' (built-in)>\n",
            "Process SpawnPoolWorker-12:\n",
            "Traceback (most recent call last):\n",
            "  File \"/Users/lisboa/opt/anaconda3/lib/python3.9/multiprocessing/process.py\", line 315, in _bootstrap\n",
            "    self.run()\n",
            "  File \"/Users/lisboa/opt/anaconda3/lib/python3.9/multiprocessing/process.py\", line 108, in run\n",
            "    self._target(*self._args, **self._kwargs)\n",
            "  File \"/Users/lisboa/opt/anaconda3/lib/python3.9/multiprocessing/pool.py\", line 114, in worker\n",
            "    task = get()\n",
            "  File \"/Users/lisboa/opt/anaconda3/lib/python3.9/multiprocessing/queues.py\", line 368, in get\n",
            "    return _ForkingPickler.loads(res)\n",
            "AttributeError: Can't get attribute 'calculate' on <module '__main__' (built-in)>\n",
            "Process SpawnPoolWorker-14:\n",
            "Traceback (most recent call last):\n",
            "  File \"/Users/lisboa/opt/anaconda3/lib/python3.9/multiprocessing/process.py\", line 315, in _bootstrap\n",
            "    self.run()\n",
            "  File \"/Users/lisboa/opt/anaconda3/lib/python3.9/multiprocessing/process.py\", line 108, in run\n",
            "    self._target(*self._args, **self._kwargs)\n",
            "  File \"/Users/lisboa/opt/anaconda3/lib/python3.9/multiprocessing/pool.py\", line 114, in worker\n",
            "    task = get()\n",
            "  File \"/Users/lisboa/opt/anaconda3/lib/python3.9/multiprocessing/queues.py\", line 368, in get\n",
            "    return _ForkingPickler.loads(res)\n",
            "AttributeError: Can't get attribute 'calculate' on <module '__main__' (built-in)>\n"
          ]
        },
        {
          "output_type": "stream",
          "name": "stderr",
          "text": [
            "Process SpawnPoolWorker-13:\n",
            "Traceback (most recent call last):\n",
            "  File \"/Users/lisboa/opt/anaconda3/lib/python3.9/multiprocessing/process.py\", line 315, in _bootstrap\n",
            "    self.run()\n",
            "  File \"/Users/lisboa/opt/anaconda3/lib/python3.9/multiprocessing/process.py\", line 108, in run\n",
            "    self._target(*self._args, **self._kwargs)\n",
            "  File \"/Users/lisboa/opt/anaconda3/lib/python3.9/multiprocessing/pool.py\", line 114, in worker\n",
            "    task = get()\n",
            "  File \"/Users/lisboa/opt/anaconda3/lib/python3.9/multiprocessing/queues.py\", line 368, in get\n",
            "    return _ForkingPickler.loads(res)\n",
            "AttributeError: Can't get attribute 'calculate' on <module '__main__' (built-in)>\n",
            "Process SpawnPoolWorker-15:\n",
            "Traceback (most recent call last):\n",
            "  File \"/Users/lisboa/opt/anaconda3/lib/python3.9/multiprocessing/process.py\", line 315, in _bootstrap\n",
            "    self.run()\n",
            "  File \"/Users/lisboa/opt/anaconda3/lib/python3.9/multiprocessing/process.py\", line 108, in run\n",
            "    self._target(*self._args, **self._kwargs)\n",
            "  File \"/Users/lisboa/opt/anaconda3/lib/python3.9/multiprocessing/pool.py\", line 114, in worker\n",
            "    task = get()\n",
            "  File \"/Users/lisboa/opt/anaconda3/lib/python3.9/multiprocessing/queues.py\", line 368, in get\n",
            "    return _ForkingPickler.loads(res)\n",
            "AttributeError: Can't get attribute 'calculate' on <module '__main__' (built-in)>\n",
            "Process SpawnPoolWorker-16:\n",
            "Traceback (most recent call last):\n",
            "  File \"/Users/lisboa/opt/anaconda3/lib/python3.9/multiprocessing/process.py\", line 315, in _bootstrap\n",
            "    self.run()\n",
            "  File \"/Users/lisboa/opt/anaconda3/lib/python3.9/multiprocessing/process.py\", line 108, in run\n",
            "    self._target(*self._args, **self._kwargs)\n",
            "  File \"/Users/lisboa/opt/anaconda3/lib/python3.9/multiprocessing/pool.py\", line 114, in worker\n",
            "    task = get()\n",
            "  File \"/Users/lisboa/opt/anaconda3/lib/python3.9/multiprocessing/queues.py\", line 368, in get\n",
            "    return _ForkingPickler.loads(res)\n",
            "AttributeError: Can't get attribute 'calculate' on <module '__main__' (built-in)>\n",
            "Process SpawnPoolWorker-17:\n",
            "Traceback (most recent call last):\n",
            "  File \"/Users/lisboa/opt/anaconda3/lib/python3.9/multiprocessing/process.py\", line 315, in _bootstrap\n",
            "    self.run()\n",
            "  File \"/Users/lisboa/opt/anaconda3/lib/python3.9/multiprocessing/process.py\", line 108, in run\n",
            "    self._target(*self._args, **self._kwargs)\n",
            "  File \"/Users/lisboa/opt/anaconda3/lib/python3.9/multiprocessing/pool.py\", line 114, in worker\n",
            "    task = get()\n",
            "  File \"/Users/lisboa/opt/anaconda3/lib/python3.9/multiprocessing/queues.py\", line 368, in get\n",
            "    return _ForkingPickler.loads(res)\n",
            "AttributeError: Can't get attribute 'calculate' on <module '__main__' (built-in)>\n",
            "Process SpawnPoolWorker-18:\n",
            "Traceback (most recent call last):\n",
            "  File \"/Users/lisboa/opt/anaconda3/lib/python3.9/multiprocessing/process.py\", line 315, in _bootstrap\n",
            "    self.run()\n",
            "  File \"/Users/lisboa/opt/anaconda3/lib/python3.9/multiprocessing/process.py\", line 108, in run\n",
            "    self._target(*self._args, **self._kwargs)\n",
            "  File \"/Users/lisboa/opt/anaconda3/lib/python3.9/multiprocessing/pool.py\", line 114, in worker\n",
            "    task = get()\n",
            "  File \"/Users/lisboa/opt/anaconda3/lib/python3.9/multiprocessing/queues.py\", line 368, in get\n",
            "    return _ForkingPickler.loads(res)\n",
            "AttributeError: Can't get attribute 'calculate' on <module '__main__' (built-in)>\n",
            "Process SpawnPoolWorker-20:\n",
            "Traceback (most recent call last):\n",
            "  File \"/Users/lisboa/opt/anaconda3/lib/python3.9/multiprocessing/process.py\", line 315, in _bootstrap\n",
            "    self.run()\n",
            "  File \"/Users/lisboa/opt/anaconda3/lib/python3.9/multiprocessing/process.py\", line 108, in run\n",
            "    self._target(*self._args, **self._kwargs)\n",
            "  File \"/Users/lisboa/opt/anaconda3/lib/python3.9/multiprocessing/pool.py\", line 114, in worker\n",
            "    task = get()\n",
            "  File \"/Users/lisboa/opt/anaconda3/lib/python3.9/multiprocessing/queues.py\", line 368, in get\n",
            "    return _ForkingPickler.loads(res)\n",
            "AttributeError: Can't get attribute 'calculate' on <module '__main__' (built-in)>\n",
            "Process SpawnPoolWorker-19:\n",
            "Traceback (most recent call last):\n",
            "  File \"/Users/lisboa/opt/anaconda3/lib/python3.9/multiprocessing/process.py\", line 315, in _bootstrap\n",
            "    self.run()\n",
            "  File \"/Users/lisboa/opt/anaconda3/lib/python3.9/multiprocessing/process.py\", line 108, in run\n",
            "    self._target(*self._args, **self._kwargs)\n",
            "  File \"/Users/lisboa/opt/anaconda3/lib/python3.9/multiprocessing/pool.py\", line 114, in worker\n",
            "    task = get()\n",
            "  File \"/Users/lisboa/opt/anaconda3/lib/python3.9/multiprocessing/queues.py\", line 368, in get\n",
            "    return _ForkingPickler.loads(res)\n",
            "AttributeError: Can't get attribute 'calculate' on <module '__main__' (built-in)>\n"
          ]
        }
      ],
      "execution_count": null,
      "metadata": {}
    },
    {
      "cell_type": "code",
      "source": [],
      "outputs": [],
      "execution_count": null,
      "metadata": {}
    }
  ],
  "metadata": {
    "colab": {
      "authorship_tag": "ABX9TyPO1Js+wB+gf1zJ0Yn405Oz",
      "mount_file_id": "12ufX2tXkBxOM9c0k9m3sSpcS4BEMPh1H",
      "provenance": []
    },
    "kernelspec": {
      "display_name": "Python 3 (ipykernel)",
      "language": "python",
      "name": "python3"
    },
    "language_info": {
      "name": "python",
      "version": "3.10.6",
      "mimetype": "text/x-python",
      "codemirror_mode": {
        "name": "ipython",
        "version": 3
      },
      "pygments_lexer": "ipython3",
      "nbconvert_exporter": "python",
      "file_extension": ".py"
    },
    "nteract": {
      "version": "0.28.0"
    }
  },
  "nbformat": 4,
  "nbformat_minor": 4
}