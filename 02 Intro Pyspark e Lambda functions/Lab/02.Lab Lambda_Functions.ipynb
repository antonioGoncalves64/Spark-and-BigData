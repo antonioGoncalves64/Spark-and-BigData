{
 "cells": [
  {
   "cell_type": "markdown",
   "metadata": {},
   "source": [
    "<img src=\"images/python.png\" alt=\"drawing\" width=\"300\"/>\n",
    "\n",
    "# Lab Funções Lambda\n",
    "\n",
    "\n"
   ]
  },
  {
   "cell_type": "markdown",
   "metadata": {},
   "source": [
    "## Conversão de Temperaturas\n",
    "\n",
    "Suponha que tem uma lista de temperaturas medidas em graus Celsius ou Fahrenheit e precisa de convertê-las nas temperaturas correspondentes em graus Fahrenheit ou Celsius. Pode codificar duas funções de transformação para realizar esta tarefa:\n",
    "\n",
    "def to_fahrenheit(c):\n",
    "    return 9 / 5 * c + 32\n",
    "\n",
    "def to_celsius(f):\n",
    "    return (f - 32) * 5 / 9\n",
    "    \n",
    "    \n",
    "**to_fahrenheit()** faz uma leitura da temperatura em Celsius e faz a conversão para Fahrenheit. \n",
    "Do mesmo modo, **to_celsius()** recebe uma temperatura em Fahrenheit e converte-a para Celsius.\n",
    "\n",
    "Utilize  estas duas funções como funções de transformação, em cojunto com a função  map() para converter uma iterável de medições de temperatura para Fahrenheit e para Celsius, respectivamentente.\n",
    "\n",
    "\n",
    "\n"
   ]
  },
  {
   "cell_type": "code",
   "execution_count": null,
   "metadata": {},
   "outputs": [],
   "source": [
    "#Solução:\n",
    "\n",
    "\n",
    "\n",
    "\n",
    "\n",
    "\n",
    "\n"
   ]
  },
  {
   "cell_type": "markdown",
   "metadata": {},
   "source": [
    "## Calcular  a raiz quadrado de uma lista\n",
    "\n",
    "Precisamos de  de calcular a raiz quadrada de todos os valores de uma lista. \n",
    "tenha em atenção que a lista pode conter valores negativos. \n",
    "A seguir é apresentado uma versão:\n",
    "\n",
    "\n",
    "import math\n",
    "\n",
    "sanitized_list =[25, 9, 81, 16, 0]\n",
    "\n",
    "print(sanitized_list)\n",
    "    \n",
    "cleaned_iter = list(map(math.sqrt, sanitized_list))\n",
    "\n",
    "print(cleaned_iter)\n",
    "\n",
    "\n",
    "\n",
    "Contudo está versão receberá um erro quando o valor da  for um números negativo. \n",
    "Rescreva o código de modo a mitigar este erro,  eliminando  todos os números negativos da lista. "
   ]
  },
  {
   "cell_type": "code",
   "execution_count": 5,
   "metadata": {},
   "outputs": [
    {
     "name": "stdout",
     "output_type": "stream",
     "text": [
      "[25, 9, 81, -16, 0]\n"
     ]
    },
    {
     "ename": "ValueError",
     "evalue": "math domain error",
     "output_type": "error",
     "traceback": [
      "\u001b[0;31m---------------------------------------------------------------------------\u001b[0m",
      "\u001b[0;31mValueError\u001b[0m                                Traceback (most recent call last)",
      "Input \u001b[0;32mIn [5]\u001b[0m, in \u001b[0;36m<cell line: 7>\u001b[0;34m()\u001b[0m\n\u001b[1;32m      3\u001b[0m sanitized_list \u001b[38;5;241m=\u001b[39m[\u001b[38;5;241m25\u001b[39m, \u001b[38;5;241m9\u001b[39m, \u001b[38;5;241m81\u001b[39m, \u001b[38;5;241m-\u001b[39m\u001b[38;5;241m16\u001b[39m, \u001b[38;5;241m0\u001b[39m]\n\u001b[1;32m      5\u001b[0m \u001b[38;5;28mprint\u001b[39m(sanitized_list)\n\u001b[0;32m----> 7\u001b[0m cleaned_iter \u001b[38;5;241m=\u001b[39m \u001b[38;5;28;43mlist\u001b[39;49m\u001b[43m(\u001b[49m\u001b[38;5;28;43mmap\u001b[39;49m\u001b[43m(\u001b[49m\u001b[43mmath\u001b[49m\u001b[38;5;241;43m.\u001b[39;49m\u001b[43msqrt\u001b[49m\u001b[43m,\u001b[49m\u001b[43m \u001b[49m\u001b[43msanitized_list\u001b[49m\u001b[43m)\u001b[49m\u001b[43m)\u001b[49m\n\u001b[1;32m      9\u001b[0m \u001b[38;5;28mprint\u001b[39m(cleaned_iter)\n",
      "\u001b[0;31mValueError\u001b[0m: math domain error"
     ]
    }
   ],
   "source": [
    "import math\n",
    "\n",
    "sanitized_list =[25, 9, 81, -16, 0]\n",
    "\n",
    "print(sanitized_list)\n",
    "    \n",
    "cleaned_iter = list(map(math.sqrt, sanitized_list))\n",
    "\n",
    "print(cleaned_iter)\n",
    "\n"
   ]
  },
  {
   "cell_type": "code",
   "execution_count": 1,
   "metadata": {},
   "outputs": [
    {
     "data": {
      "text/plain": [
       "[5.0, 3.0, 9.0, 0.0]"
      ]
     },
     "execution_count": 1,
     "metadata": {},
     "output_type": "execute_result"
    }
   ],
   "source": [
    "#Solução:"
   ]
  },
  {
   "cell_type": "code",
   "execution_count": null,
   "metadata": {},
   "outputs": [],
   "source": []
  },
  {
   "cell_type": "markdown",
   "metadata": {},
   "source": [
    "## Encontrar o maior e o menor valor de uma lista\n",
    "\n",
    "Em seguida é apresentado um programa que devolver o maior e o menor elemento de uma lista.\n",
    "Pretende-se que faça a mesma funcionalidade utilixando o função reduce do package functools. \n",
    "\n",
    "**Obs:** No exemplo, utilizamos o operador Python itererable unpacking (*) para descompactar ou expandir os valores em números em duas variáveis. No primeiro caso, o efeito  é que o valor min_valor recebe o primeiro valor em números, que é 3, e o resto recolhe os valores restantes da lista."
   ]
  },
  {
   "cell_type": "code",
   "execution_count": 7,
   "metadata": {},
   "outputs": [
    {
     "name": "stdout",
     "output_type": "stream",
     "text": [
      "minimo:  1\n",
      "máximo:  7\n"
     ]
    }
   ],
   "source": [
    "numbers = [3, 5, 2, 4, 7, 1]\n",
    "\n",
    "# Minimum\n",
    "min_value, *rest = numbers\n",
    "for num in rest:\n",
    "    if num < min_value:\n",
    "        min_value = num\n",
    "\n",
    "print (\"minimo: \", min_value)\n",
    "\n",
    "\n",
    "# Maximum\n",
    "max_value, *rest = numbers\n",
    "for num in rest:\n",
    "    if num > max_value:\n",
    "        max_value = num\n",
    "\n",
    "print (\"máximo: \", max_value)"
   ]
  },
  {
   "cell_type": "code",
   "execution_count": 4,
   "metadata": {},
   "outputs": [
    {
     "name": "stdout",
     "output_type": "stream",
     "text": [
      "minimo: 1\n",
      "máximo: 7\n"
     ]
    }
   ],
   "source": [
    "#Solução:\n",
    "\n",
    "\n",
    "\n",
    "\n",
    "\n",
    "\n",
    "\n"
   ]
  },
  {
   "cell_type": "markdown",
   "metadata": {},
   "source": [
    "## Ordenar Lista\n",
    "\n",
    "Escreva um programa Python para ordenar uma lista de tuplos. Faça uso defunções Lambda.Exemplo de utilização:\n",
    "\n",
    "* Lista original de tuplos: (\"Inglês\", 88), (\"Ciência\", 90), (\"Matemática\", 97), (\"Ciências Sociais\", 82)].\n",
    "\n",
    "* Lista Ordenada: (\"Ciências sociais\", 82), (\"Inglês\", 88), (\"Ciência\", 90), (\"Matemática\", 97)]"
   ]
  },
  {
   "cell_type": "code",
   "execution_count": 9,
   "metadata": {},
   "outputs": [
    {
     "name": "stdout",
     "output_type": "stream",
     "text": [
      "Original list of tuples:  [('English', 88), ('Science', 90), ('Maths', 97), ('Social sciences', 82)]\n",
      "\n",
      "Sorting the List of Tuples: [('Social sciences', 82), ('English', 88), ('Science', 90), ('Maths', 97)]\n"
     ]
    }
   ],
   "source": [
    "subject_marks = [('English', 88), ('Science', 90), ('Maths', 97), ('Social sciences', 82)]\n",
    "\n",
    "print(\"Original list of tuples: \", subject_marks)\n",
    "\n",
    "subject_marks.sort(key = lambda x: x[1])\n",
    "\n",
    "print(\"\\nSorting the List of Tuples:\", subject_marks)\n"
   ]
  },
  {
   "cell_type": "markdown",
   "metadata": {},
   "source": [
    " ## Intersecção de  listas\n",
    "\n",
    "Escrever um programa  para encontrar a intersecção de duas listas através de funções. Por exemplo:\n",
    "\n",
    "[1, 2, 3, 5, 7, 8, 9, 10]\n",
    "\n",
    "[1, 2, 4, 8, 9]\n",
    "\n",
    "Intersection of the said List: [1, 2, 8, 9]"
   ]
  },
  {
   "cell_type": "code",
   "execution_count": 12,
   "metadata": {},
   "outputs": [
    {
     "name": "stdout",
     "output_type": "stream",
     "text": [
      "Original arrays:\n",
      "[1, 2, 3, 5, 7, 8, 9, 10]\n",
      "[1, 2, 4, 8, 9]\n",
      "\n",
      "Intersection of the said arrays:  [1, 2, 8, 9]\n"
     ]
    }
   ],
   "source": [
    "# Solução:\n",
    "\n",
    "\n",
    "\n",
    "\n",
    "\n",
    "\n",
    "\n"
   ]
  },
  {
   "cell_type": "markdown",
   "metadata": {},
   "source": [
    " ## Reorganizar lista\n",
    " Escrever um programa  para reordenar números positivos e negativos de uma lista. Utilize  funções Lambda. Por exemplo:\n",
    " \n",
    " [-1, 2, -3, 5, 7, 8, 9, -10]\n",
    " \n",
    "Rearrange positive and negative numbers of the said array:\n",
    "\n",
    "[2, 5, 7, 8, 9, -10, -3, -1]\n",
    " \n",
    " "
   ]
  },
  {
   "cell_type": "code",
   "execution_count": 13,
   "metadata": {},
   "outputs": [
    {
     "name": "stdout",
     "output_type": "stream",
     "text": [
      "Original arrays:\n",
      "[-1, 2, -3, 5, 7, 8, 9, -10]\n",
      "\n",
      "Rearrange positive and negative numbers of the said array:\n",
      "[2, 5, 7, 8, 9, -10, -3, -1]\n"
     ]
    }
   ],
   "source": [
    "#Solução:\n",
    "\n",
    "\n"
   ]
  },
  {
   "cell_type": "markdown",
   "metadata": {},
   "source": [
    "# Contar números\n",
    "\n",
    "Escrever um programa para contar os números pares e ímpares num dado conjunto de números inteiros Utilize funções Lambda. Por exemplo: \n",
    "\n",
    "[1, 2, 3, 5, 7, 8, 9, 10]\n",
    "\n",
    "Number of even numbers in the above array: 3\n",
    "\n",
    "Number of odd numbers in the above array: 5"
   ]
  },
  {
   "cell_type": "code",
   "execution_count": 8,
   "metadata": {},
   "outputs": [],
   "source": [
    "#Solução:\n",
    "\n",
    "\n",
    "\n",
    "\n",
    "\n",
    "\n"
   ]
  },
  {
   "cell_type": "code",
   "execution_count": null,
   "metadata": {},
   "outputs": [],
   "source": []
  }
 ],
 "metadata": {
  "colab": {
   "authorship_tag": "ABX9TyPO1Js+wB+gf1zJ0Yn405Oz",
   "mount_file_id": "12ufX2tXkBxOM9c0k9m3sSpcS4BEMPh1H",
   "provenance": []
  },
  "kernelspec": {
   "display_name": "Python 3 (ipykernel)",
   "language": "python",
   "name": "python3"
  },
  "language_info": {
   "codemirror_mode": {
    "name": "ipython",
    "version": 3
   },
   "file_extension": ".py",
   "mimetype": "text/x-python",
   "name": "python",
   "nbconvert_exporter": "python",
   "pygments_lexer": "ipython3",
   "version": "3.9.12"
  },
  "nteract": {
   "version": "0.28.0"
  }
 },
 "nbformat": 4,
 "nbformat_minor": 4
}
