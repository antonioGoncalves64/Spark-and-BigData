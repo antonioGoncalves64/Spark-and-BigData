{
  "nbformat": 4,
  "nbformat_minor": 0,
  "metadata": {
    "colab": {
      "provenance": []
    },
    "kernelspec": {
      "name": "python3",
      "display_name": "Python 3"
    },
    "language_info": {
      "name": "python"
    }
  },
  "cells": [
    {
      "cell_type": "code",
      "execution_count": 1,
      "metadata": {
        "colab": {
          "base_uri": "https://localhost:8080/"
        },
        "id": "5R5ivnVdz3Hu",
        "outputId": "5406ec57-dc12-4f7c-f029-d0f8b4536839"
      },
      "outputs": [
        {
          "output_type": "stream",
          "name": "stdout",
          "text": [
            "Looking in indexes: https://pypi.org/simple, https://us-python.pkg.dev/colab-wheels/public/simple/\n",
            "Collecting pyspark\n",
            "  Downloading pyspark-3.3.1.tar.gz (281.4 MB)\n",
            "\u001b[K     |████████████████████████████████| 281.4 MB 37 kB/s \n",
            "\u001b[?25hCollecting py4j==0.10.9.5\n",
            "  Downloading py4j-0.10.9.5-py2.py3-none-any.whl (199 kB)\n",
            "\u001b[K     |████████████████████████████████| 199 kB 46.5 MB/s \n",
            "\u001b[?25hBuilding wheels for collected packages: pyspark\n",
            "  Building wheel for pyspark (setup.py) ... \u001b[?25l\u001b[?25hdone\n",
            "  Created wheel for pyspark: filename=pyspark-3.3.1-py2.py3-none-any.whl size=281845512 sha256=dc8514d9cc37c5c179173f82b91238bbaad330fe7e31768b4a80201d35d06f21\n",
            "  Stored in directory: /root/.cache/pip/wheels/43/dc/11/ec201cd671da62fa9c5cc77078235e40722170ceba231d7598\n",
            "Successfully built pyspark\n",
            "Installing collected packages: py4j, pyspark\n",
            "Successfully installed py4j-0.10.9.5 pyspark-3.3.1\n"
          ]
        }
      ],
      "source": [
        "!pip install pyspark"
      ]
    },
    {
      "cell_type": "code",
      "source": [
        "\n",
        "from pyspark import SparkConf \n",
        "from pyspark.context import SparkContext \n",
        "\n",
        "sc = SparkContext.getOrCreate(SparkConf() \\\n",
        "        .setMaster(\"local[*]\")\\\n",
        "        .setAppName(\"Intro pyspark\"))\n",
        "\n",
        "\n",
        "\n",
        "print (sc.version)\n",
        "\n",
        "print(sc.pythonVer)\n",
        "\n",
        "print(sc.master)"
      ],
      "metadata": {
        "colab": {
          "base_uri": "https://localhost:8080/"
        },
        "id": "goJgx5rb0WLv",
        "outputId": "6b441faf-3a41-46c7-abb7-8dc30d14a58f"
      },
      "execution_count": 3,
      "outputs": [
        {
          "output_type": "stream",
          "name": "stdout",
          "text": [
            "3.3.1\n",
            "3.8\n",
            "local[*]\n"
          ]
        }
      ]
    },
    {
      "cell_type": "code",
      "source": [
        "from pyspark import SparkConf \n",
        "from pyspark.context import SparkContext \n",
        "\n",
        "sc = SparkContext.getOrCreate(SparkConf() \\\n",
        "        .setMaster(\"local[*]\")\\\n",
        "        .setAppName(\"Intro pyspark\"))\n",
        "\n",
        "\n",
        "\n",
        "numRDD = sc.parallelize([1,2,3,4,5])\n",
        "print (\"numRDD:   \", type(numRDD)) #confirm type of object RDD\n",
        "\n",
        "helloRDD = sc.parallelize((\"Hello world\"))\n",
        "print (\"helloRDD: \",type(helloRDD)) #confirm type of object RDD"
      ],
      "metadata": {
        "colab": {
          "base_uri": "https://localhost:8080/"
        },
        "id": "CDSCAfpfOt18",
        "outputId": "37ef66b3-9103-4cf8-8d1b-0f6f4644a76e"
      },
      "execution_count": 4,
      "outputs": [
        {
          "output_type": "stream",
          "name": "stdout",
          "text": [
            "numRDD:    <class 'pyspark.rdd.RDD'>\n",
            "helloRDD:  <class 'pyspark.rdd.RDD'>\n"
          ]
        }
      ]
    },
    {
      "cell_type": "code",
      "source": [
        "from pyspark import SparkConf \n",
        "from pyspark.context import SparkContext \n",
        "\n",
        "sc = SparkContext.getOrCreate(SparkConf() \\\n",
        "        .setMaster(\"local[*]\")\\\n",
        "        .setAppName(\"Intro pyspark\"))\n",
        "\n",
        "distData = sc.parallelize([1,2,3])\n",
        "distData.reduce(lambda a, b: a + b)"
      ],
      "metadata": {
        "colab": {
          "base_uri": "https://localhost:8080/"
        },
        "id": "8rWyA7XLQKmj",
        "outputId": "57b3b543-58b8-4562-baa4-dfd37d141cc5"
      },
      "execution_count": 5,
      "outputs": [
        {
          "output_type": "execute_result",
          "data": {
            "text/plain": [
              "6"
            ]
          },
          "metadata": {},
          "execution_count": 5
        }
      ]
    },
    {
      "cell_type": "code",
      "source": [
        "from pyspark import SparkConf \n",
        "from pyspark.context import SparkContext \n",
        "\n",
        "sc = SparkContext.getOrCreate(SparkConf() \\\n",
        "        .setMaster(\"local[*]\")\\\n",
        "        .setAppName(\"Intro pyspark\"))\n",
        "\n",
        "data01 = sc.parallelize([1,2,3,4,5])\n",
        "print (\"Data01 NumPartitions: \", data01.getNumPartitions())\n",
        "\n",
        "data02 = sc.parallelize([1,2,3,4,5],3)\n",
        "print (\"data02 NumPartitions: \", data02.getNumPartitions())"
      ],
      "metadata": {
        "colab": {
          "base_uri": "https://localhost:8080/"
        },
        "id": "5BrjH-gDRArc",
        "outputId": "ccfe9792-2dcd-4ba6-a5e9-3b3b0ddd871f"
      },
      "execution_count": 6,
      "outputs": [
        {
          "output_type": "stream",
          "name": "stdout",
          "text": [
            "Data01 NumPartitions:  2\n",
            "data02 NumPartitions:  3\n"
          ]
        }
      ]
    },
    {
      "cell_type": "code",
      "source": [
        "from pyspark import SparkConf \n",
        "from pyspark.context import SparkContext \n",
        "\n",
        "sc = SparkContext.getOrCreate(SparkConf() \\\n",
        "        .setMaster(\"local[*]\")\\\n",
        "        .setAppName(\"Intro pyspark\"))\n",
        "\n",
        "fileRDD = sc.textFile(\"files/ratings.csv\")\n",
        "\n",
        "print(fileRDD)\n",
        "\n",
        "#newRDD= fileRDD.take(2)\n",
        "\n",
        "#for i in newRDD:\n",
        "#   print(i)"
      ],
      "metadata": {
        "colab": {
          "base_uri": "https://localhost:8080/"
        },
        "id": "-gxpY0F9RiDx",
        "outputId": "17851c6a-8ad8-4def-d170-759bfcde44d0"
      },
      "execution_count": 10,
      "outputs": [
        {
          "output_type": "stream",
          "name": "stdout",
          "text": [
            "files/ratings.csv MapPartitionsRDD[13] at textFile at NativeMethodAccessorImpl.java:0\n"
          ]
        }
      ]
    },
    {
      "cell_type": "markdown",
      "source": [],
      "metadata": {
        "id": "RuuAJ5KQPFfF"
      }
    }
  ]
}