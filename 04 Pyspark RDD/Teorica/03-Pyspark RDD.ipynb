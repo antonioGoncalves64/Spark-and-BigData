{
  "cells": [
    {
      "cell_type": "markdown",
      "source": [
        "<img src=\"images/spark.png\" alt=\"drawing\" width=\"200\"/>\n",
        "\n",
        "# Introduction Spark\n",
        "\n",
        "\n"
      ],
      "metadata": {
        "slideshow": {
          "slide_type": "slide"
        }
      }
    },
    {
      "cell_type": "markdown",
      "source": [
        "## Spark\n",
        "Apache Spark is a lightning fast real-time processing framework. \n",
        "It does in-memory computations to analyze data in real-time.\n",
        "It came into picture as Apache Hadoop MapReduce was performing batch processing only and lacked a real-time processing feature. \n",
        "Hence, Apache Spark was introduced as it can perform stream processing in real-time and can also take care of batch processing.\n",
        "Apart from real-time and batch processing, Apache Spark supports interactive queries and iterative algorithms also. Apache Spark has its own cluster manager, where it can host its application. It leverages Apache Hadoop for both storage and processing. It uses HDFS (Hadoop Distributed File system) for storage and it can run Spark applications on YARN as well."
      ],
      "metadata": {
        "slideshow": {
          "slide_type": "slide"
        }
      }
    },
    {
      "cell_type": "markdown",
      "source": [
        "## PySpark\n",
        "\n",
        "Apache Spark is written in Scala programming language. \n",
        "To support Python with Spark, Apache Spark Community released a tool, PySpark. \n",
        "Using PySpark, you can work with RDDs in Python programming language also. \n",
        "It is because of a library called Py4j that they are able to achieve this.\n",
        "PySpark offers PySpark Shell which links the Python API to the spark core and initializes the Spark context.\n",
        "Majority of data scientists and analytics experts today use Python because of its rich library set. \n",
        "Integrating Python with Spark is a boon to them."
      ],
      "metadata": {
        "slideshow": {
          "slide_type": "slide"
        }
      }
    },
    {
      "cell_type": "markdown",
      "source": [
        "### PySpark shell\n",
        "\n",
        "PySpark shell is referred as REPL (Read Eval Print Loop) which is used to quickly test PySpark statements. \n",
        "Spark shell is available for Scala, Python and R. \n",
        "The pyspark command is used to launch Spark with Python shell also call PySpark.\n",
        "\n",
        "<img src=\"images/pyspark shell.png\" alt=\"drawing\" width=\"800\"/>\n",
        "\n"
      ],
      "metadata": {
        "slideshow": {
          "slide_type": "slide"
        }
      }
    },
    {
      "cell_type": "markdown",
      "source": [
        "### Using Spark in Python - Spark Context\n",
        "\n",
        "The first step in using Spark is connecting to a Spark cluster.\n",
        "A SparkContext represents the connection to a Spark cluster, and can be used to create RDDs, accumulators and broadcast variables on that cluster. \n",
        "SparkContext is the entry point to any spark functionality. When we run any Spark application, a driver program starts, which has the main function and your SparkContext gets initiated here. \n",
        "The driver program then runs the operations inside the executors on worker nodes.\n",
        "In practice, the cluster will be hosted on a remote machine that's connected to all other nodes. \n",
        "There will be one computer, called the master that manages splitting up the data and the computations. \n",
        "The master is connected to the rest of the computers in the cluster, which are called worker. \n",
        "The master sends the workers data and calculations to run, and they send their results back to the master.\n",
        "\n",
        "<img src=\"images/sparkContext.png\" alt=\"drawing\" width=\"600\"/>"
      ],
      "metadata": {
        "slideshow": {
          "slide_type": "slide"
        }
      }
    },
    {
      "cell_type": "code",
      "source": [
        "!pip Install Pyspark\n",
        "\n",
        "from pyspark import SparkConf \n",
        "from pyspark.context import SparkContext \n",
        "\n",
        "sc = SparkContext.getOrCreate(SparkConf().setMaster(\"local[*]\").setAppName(\"Intro pyspark\"))\n",
        "\n",
        "\n",
        "# Verify SparkContext\n",
        "print(sc)\n",
        "\n",
        "# Print Spark version\n",
        "print(sc.version)"
      ],
      "outputs": [
        {
          "output_type": "stream",
          "name": "stderr",
          "text": [
            "Setting default log level to \"WARN\".\n",
            "To adjust logging level use sc.setLogLevel(newLevel). For SparkR, use setLogLevel(newLevel).\n"
          ]
        },
        {
          "output_type": "stream",
          "name": "stdout",
          "text": [
            "22/11/06 13:32:08 WARN NativeCodeLoader: Unable to load native-hadoop library for your platform... using builtin-java classes where applicable\n",
            "<SparkContext master=local[*] appName=Intro pyspark>\n",
            "3.3.0\n"
          ]
        }
      ],
      "execution_count": 1,
      "metadata": {
        "scrolled": true,
        "slideshow": {
          "slide_type": "subslide"
        }
      }
    },
    {
      "cell_type": "markdown",
      "source": [
        "# Resilient Distributed Datasets (RDDs)\n",
        "\n",
        "Spark revolves around the concept of a resilient distributed dataset (RDD), which is a fault-tolerant collection of elements that can be operated on in parallel. \n",
        "There are two ways to create RDDs: \n",
        "\n",
        "* parallelizing an existing collection in your driver program, or \n",
        "* referencing a dataset in an external storage system, such as a shared filesystem, HDFS, HBase, or any data source offering a Hadoop InputFormat."
      ],
      "metadata": {
        "id": "Yktgv1AMM7tM",
        "slideshow": {
          "slide_type": "slide"
        }
      }
    },
    {
      "cell_type": "markdown",
      "source": [
        "## Parallelized collection\n",
        "\n",
        "Parallelized collections are created by calling SparkContext’s parallelize method on an existing iterable or collection in your driver program. The elements of the collection are copied to form a distributed dataset that can be operated on in parallel. For example, here is how to create two parallelized collection: one for holding the numbers 1 to 5 and the other for hoding a String."
      ],
      "metadata": {
        "id": "_57oDHuCNYPO",
        "slideshow": {
          "slide_type": "slide"
        }
      }
    },
    {
      "cell_type": "code",
      "source": [
        "numRDD = sc.parallelize([1,2,3,4,5])\n",
        "print (\"numRDD:   \", type(numRDD)) #confirm type of object RDD\n",
        "\n",
        "helloRDD = sc.parallelize((\"Hello world\"))\n",
        "print (\"helloRDD: \",type(helloRDD)) #confirm type of object RDD"
      ],
      "outputs": [
        {
          "output_type": "stream",
          "name": "stdout",
          "text": [
            "numRDD:    <class 'pyspark.rdd.RDD'>\n",
            "helloRDD:  <class 'pyspark.rdd.RDD'>\n"
          ]
        }
      ],
      "execution_count": 3,
      "metadata": {
        "colab": {
          "base_uri": "https://localhost:8080/"
        },
        "executionInfo": {
          "elapsed": 264,
          "status": "ok",
          "timestamp": 1667593780330,
          "user": {
            "displayName": "Antonio Goncalves",
            "userId": "08143767804389786702"
          },
          "user_tz": 0
        },
        "id": "Fl6IOUZuOde0",
        "outputId": "17986c6b-aff9-446f-a533-0125b1bf4dae",
        "slideshow": {
          "slide_type": "subslide"
        }
      }
    },
    {
      "cell_type": "markdown",
      "source": [
        "Once created, the distributed dataset (distData) can be operated on in parallel. \n",
        "For example, we can call distData.reduce(lambda a, b: a + b) to add up the elements of the list. "
      ],
      "metadata": {
        "slideshow": {
          "slide_type": "subslide"
        }
      }
    },
    {
      "cell_type": "code",
      "source": [
        "distData = sc.parallelize([1,2,3])\n",
        "distData.reduce(lambda a, b: a + b)"
      ],
      "outputs": [
        {
          "output_type": "stream",
          "name": "stderr",
          "text": [
            "                                                                                \r"
          ]
        },
        {
          "output_type": "execute_result",
          "execution_count": 4,
          "data": {
            "text/plain": "6"
          },
          "metadata": {}
        }
      ],
      "execution_count": 4,
      "metadata": {
        "slideshow": {
          "slide_type": "subslide"
        }
      }
    },
    {
      "cell_type": "markdown",
      "source": [
        "One important parameter for parallel collections is the number of partitions to cut the dataset into. \n",
        "Spark will run one task for each partition of the cluster. Typically you want 2-4 partitions for each CPU in your cluster. \n",
        "Normally, Spark tries to set the number of partitions automatically based on your cluster. \n",
        "However, you can also set it manually by passing it as a second parameter to parallelize (e.g. sc.parallelize(data, 10))"
      ],
      "metadata": {
        "slideshow": {
          "slide_type": "subslide"
        }
      }
    },
    {
      "cell_type": "code",
      "source": [
        "data01 = sc.parallelize([1,2,3,4,5])\n",
        "print (\"Data01 NumPartitions: \", data01.getNumPartitions())\n",
        "\n",
        "data02 = sc.parallelize([1,2,3,4,5],3)\n",
        "print (\"data02 NumPartitions: \", data02.getNumPartitions())"
      ],
      "outputs": [
        {
          "output_type": "stream",
          "name": "stdout",
          "text": [
            "Data01 NumPartitions:  1\n",
            "data02 NumPartitions:  3\n"
          ]
        }
      ],
      "execution_count": 3,
      "metadata": {
        "slideshow": {
          "slide_type": "subslide"
        }
      }
    },
    {
      "cell_type": "markdown",
      "source": [
        "## External Datasets\n",
        "\n",
        "PySpark can create distributed datasets from any storage source supported by Hadoop, including your local file system, HDFS, Cassandra, HBase, Amazon S3, etc. Spark supports text files, SequenceFiles, and any other Hadoop InputFormat.\n",
        "\n",
        "Text file RDDs can be created using SparkContext’s textFile method. This method takes a URI for the file (either a local path on the machine, or a hdfs://, s3a://, etc URI) and reads it as a collection of lines. Here is an example invocation:"
      ],
      "metadata": {
        "id": "rEsOKslyQIHp",
        "slideshow": {
          "slide_type": "slide"
        }
      }
    },
    {
      "cell_type": "code",
      "source": [
        "fileRDD = sc.textFile(\"files/ratings.csv\")\n",
        "\n",
        "newRDD= fileRDD.take(3)\n",
        "\n",
        "for i in newRDD:\n",
        "    print(i)\n"
      ],
      "outputs": [
        {
          "output_type": "stream",
          "name": "stderr",
          "text": [
            "[Stage 0:>                                                          (0 + 1) / 1]\r"
          ]
        },
        {
          "output_type": "stream",
          "name": "stdout",
          "text": [
            "userId,movieId,rating,timestamp\n",
            "1,296,5.0,1147880044\n",
            "1,306,3.5,1147868817\n"
          ]
        },
        {
          "output_type": "stream",
          "name": "stderr",
          "text": [
            "                                                                                \r"
          ]
        }
      ],
      "execution_count": 4,
      "metadata": {
        "colab": {
          "base_uri": "https://localhost:8080/"
        },
        "executionInfo": {
          "elapsed": 346,
          "status": "ok",
          "timestamp": 1667593782730,
          "user": {
            "displayName": "Antonio Goncalves",
            "userId": "08143767804389786702"
          },
          "user_tz": 0
        },
        "id": "6QVHkFAcQR95",
        "outputId": "be49aced-f737-47dd-bf83-d06e9f7bdad2",
        "slideshow": {
          "slide_type": "subslide"
        }
      }
    },
    {
      "cell_type": "markdown",
      "source": [
        " ## RDD Operations\n",
        " \n",
        " RDDs support two types of operations: transformations and actions\n",
        " \n",
        "* Transformations  create a new dataset from an existing one.\n",
        "* Actions, which return a value to the driver program after running a computation on the dataset. \n",
        "\n",
        "For example, map is a transformation that passes each dataset element through a function and returns a new RDD representing the results. On the other hand, reduce is an action that aggregates all the elements of the RDD using some function and returns the final result to the driver program (although there is also a parallel reduceByKey that returns a distributed dataset).\n",
        "\n",
        "All transformations in Spark are lazy, in that they do not compute their results right away. Instead, they just remember the transformations applied to some base dataset (e.g. a file). The transformations are only computed when an action requires a result to be returned to the driver program. This design enables Spark to run more efficiently. For example, we can realize that a dataset created through map will be used in a reduce and return only the result of the reduce to the driver, rather than the larger mapped dataset.\n",
        "\n",
        "<img src=\"images/lazyTranformation.png\" alt=\"drawing\" width=\"900\"/>\n",
        "\n",
        "Here, first an RDD is calculated by reading data from a stable storage and two of the transformations are performed on the RDD and then finally an action is performed to get the result.\n",
        "\n",
        "By default, each transformed RDD may be recomputed each time you run an action on it. However, you may also persist an RDD in memory using the persist (or cache) method, in which case Spark will keep the elements around on the cluster for much faster access the next time you query it. There is also support for persisting RDDs on disk, or replicated across multiple nodes."
      ],
      "metadata": {
        "id": "NkyAuPgERtXS",
        "slideshow": {
          "slide_type": "slide"
        }
      }
    },
    {
      "cell_type": "markdown",
      "source": [
        " ### Transformations"
      ],
      "metadata": {
        "slideshow": {
          "slide_type": "slide"
        }
      }
    },
    {
      "cell_type": "markdown",
      "source": [
        "#### map( ) - Return a new RDD by applying a function to each element of this RDD."
      ],
      "metadata": {
        "slideshow": {
          "slide_type": "slide"
        }
      }
    },
    {
      "cell_type": "code",
      "source": [
        "RDD = sc.parallelize([1,2,3,4,5])\n",
        "RDD_map = RDD.map(lambda x : x * 2)\n",
        "print (\"RDD_map: \",RDD_map.collect()) # action convert to a  List"
      ],
      "outputs": [
        {
          "output_type": "stream",
          "name": "stdout",
          "text": [
            "RDD_map:  [2, 4, 6, 8, 10]\n"
          ]
        }
      ],
      "execution_count": 10,
      "metadata": {
        "slideshow": {
          "slide_type": "subslide"
        }
      }
    },
    {
      "cell_type": "markdown",
      "source": [
        "#### filter( ) returns a new RDD with only the elements that pass the condition"
      ],
      "metadata": {
        "slideshow": {
          "slide_type": "slide"
        }
      }
    },
    {
      "cell_type": "code",
      "source": [
        "RDD = sc.parallelize([1,2,3,4])\n",
        "RDD_filter = RDD.filter(lambda x : x >2)\n",
        "print (\"RDD_filter: \", RDD_filter.collect()) # action convert to a  List"
      ],
      "outputs": [
        {
          "output_type": "stream",
          "name": "stdout",
          "text": [
            "RDD_filter:  [3, 4]\n"
          ]
        }
      ],
      "execution_count": 11,
      "metadata": {
        "slideshow": {
          "slide_type": "subslide"
        }
      }
    },
    {
      "cell_type": "markdown",
      "source": [
        "#### flatMap( ) returns multiple values for each element in the original RDD"
      ],
      "metadata": {
        "slideshow": {
          "slide_type": "slide"
        }
      }
    },
    {
      "cell_type": "code",
      "source": [
        "RDD = sc.parallelize([\"hello word\", \"How are you\"])\n",
        "RDD_flatMap = RDD.flatMap(lambda x : x.split(\" \"))\n",
        "print (\"RDD_flatMap: \", RDD_flatMap.collect()) # action convert to a  List"
      ],
      "outputs": [
        {
          "output_type": "stream",
          "name": "stdout",
          "text": [
            "RDD_flatMap:  ['hello', 'word', 'How', 'are', 'you']\n"
          ]
        }
      ],
      "execution_count": 12,
      "metadata": {
        "slideshow": {
          "slide_type": "subslide"
        }
      }
    },
    {
      "cell_type": "markdown",
      "source": [
        "#### union( ) Return the union of this RDD and another one"
      ],
      "metadata": {
        "slideshow": {
          "slide_type": "slide"
        }
      }
    },
    {
      "cell_type": "code",
      "source": [
        "rdd01 = sc.parallelize([1, 3, 5, 7])\n",
        "rdd02 = sc.parallelize([2, 4, 6, 8])\n",
        "rdd03 = rdd01.union(rdd02)\n",
        "rdd03.collect()"
      ],
      "outputs": [
        {
          "output_type": "execute_result",
          "execution_count": 13,
          "data": {
            "text/plain": "[1, 3, 5, 7, 2, 4, 6, 8]"
          },
          "metadata": {}
        }
      ],
      "execution_count": 13,
      "metadata": {
        "slideshow": {
          "slide_type": "subslide"
        }
      }
    },
    {
      "cell_type": "markdown",
      "source": [
        "### Actions "
      ],
      "metadata": {
        "id": "QTTj9P9PpD6b",
        "slideshow": {
          "slide_type": "slide"
        }
      }
    },
    {
      "cell_type": "markdown",
      "source": [
        "#### collection ( ) Return a list that contains all of the elements in this RDD.\n",
        "Note: This method should only be used if the resulting array is expected to be small, as all the data is loaded into the driver’s memory."
      ],
      "metadata": {
        "slideshow": {
          "slide_type": "slide"
        }
      }
    },
    {
      "cell_type": "code",
      "source": [
        "data = [1,2,3,4,5,6,7,8,9,10,11,12]\n",
        "rdd  = sc.parallelize(data)\n",
        "\n",
        "newData = rdd.collect()\n",
        "for d in newData:\n",
        "    print (f\"Value: {d}\")\n"
      ],
      "outputs": [
        {
          "output_type": "stream",
          "name": "stdout",
          "text": [
            "Value: 1\n",
            "Value: 2\n",
            "Value: 3\n",
            "Value: 4\n",
            "Value: 5\n",
            "Value: 6\n",
            "Value: 7\n",
            "Value: 8\n",
            "Value: 9\n",
            "Value: 10\n",
            "Value: 11\n",
            "Value: 12\n"
          ]
        }
      ],
      "execution_count": 14,
      "metadata": {
        "slideshow": {
          "slide_type": "subslide"
        }
      }
    },
    {
      "cell_type": "markdown",
      "source": [
        "#### take(num) – Take the first num elements of the RDD."
      ],
      "metadata": {
        "slideshow": {
          "slide_type": "slide"
        }
      }
    },
    {
      "cell_type": "code",
      "source": [
        "data = [1,2,3,4,5,6,7,8,9,10,11,12]\n",
        "rdd  = sc.parallelize(data)\n",
        "\n",
        "newData = rdd.take(2)\n",
        "for d in newData:\n",
        "    print (f\"Value: {d}\")"
      ],
      "outputs": [
        {
          "output_type": "stream",
          "name": "stdout",
          "text": [
            "Value: 1\n",
            "Value: 2\n"
          ]
        }
      ],
      "execution_count": 15,
      "metadata": {
        "slideshow": {
          "slide_type": "subslide"
        }
      }
    },
    {
      "cell_type": "markdown",
      "source": [
        "#### first( ) – Returns the first record of the RDD"
      ],
      "metadata": {
        "slideshow": {
          "slide_type": "slide"
        }
      }
    },
    {
      "cell_type": "code",
      "source": [
        "data = [1,2,3,4,5,6,7,8,9,10,11,12]\n",
        "rdd  = sc.parallelize(data)\n",
        "\n",
        "newData = rdd.first()\n",
        "print (f\"Value: {newData}\")"
      ],
      "outputs": [
        {
          "output_type": "stream",
          "name": "stdout",
          "text": [
            "Value: 1\n"
          ]
        }
      ],
      "execution_count": 16,
      "metadata": {
        "slideshow": {
          "slide_type": "subslide"
        }
      }
    },
    {
      "cell_type": "markdown",
      "source": [
        "#### count( ) – Returns the number of records in an RDD"
      ],
      "metadata": {
        "slideshow": {
          "slide_type": "slide"
        }
      }
    },
    {
      "cell_type": "code",
      "source": [
        "data = [1,2,3,4,5,6,7,8,9,10,11,12]\n",
        "rdd  = sc.parallelize(data)\n",
        "\n",
        "num = rdd.count()\n",
        "print (f\"Count: {num}\")"
      ],
      "outputs": [
        {
          "output_type": "stream",
          "name": "stdout",
          "text": [
            "Count: 12\n"
          ]
        }
      ],
      "execution_count": 17,
      "metadata": {
        "slideshow": {
          "slide_type": "subslide"
        }
      }
    },
    {
      "cell_type": "markdown",
      "source": [
        "#### max( ) – Returns max record"
      ],
      "metadata": {
        "slideshow": {
          "slide_type": "slide"
        }
      }
    },
    {
      "cell_type": "code",
      "source": [
        "data = [1,2,3,4,5,6,7,8,9,10,11,12]\n",
        "rdd  = sc.parallelize(data)\n",
        "\n",
        "num = rdd.max()\n",
        "print (f\"Max: {num}\")"
      ],
      "outputs": [
        {
          "output_type": "stream",
          "name": "stdout",
          "text": [
            "Max: 12\n"
          ]
        }
      ],
      "execution_count": 18,
      "metadata": {
        "slideshow": {
          "slide_type": "subslide"
        }
      }
    },
    {
      "cell_type": "markdown",
      "source": [
        "#### reduce( ) – Reduces the records to single, we can use this to count or sum."
      ],
      "metadata": {
        "slideshow": {
          "slide_type": "slide"
        }
      }
    },
    {
      "cell_type": "code",
      "source": [
        "data = [1,2,3,4,5,6,7,8,9,10,11,12]\n",
        "rdd  = sc.parallelize(data)\n",
        "\n",
        "num = rdd.reduce(lambda a,b: (a+b))\n",
        "print (f\"Max: {num}\")"
      ],
      "outputs": [
        {
          "output_type": "stream",
          "name": "stdout",
          "text": [
            "Max: 78\n"
          ]
        }
      ],
      "execution_count": 19,
      "metadata": {
        "slideshow": {
          "slide_type": "subslide"
        }
      }
    },
    {
      "cell_type": "markdown",
      "source": [
        "## Pair RDDs\n",
        "\n",
        "Spark Paired RDDs are RDDs containing a key-value pair. Key-value pair (KVP) consists of a two linked data item in it. Here, the key is the identifier, whereas value is the data corresponding to the key value."
      ],
      "metadata": {
        "slideshow": {
          "slide_type": "slide"
        }
      }
    },
    {
      "cell_type": "markdown",
      "source": [
        "### Creating Pair RDDs\n",
        "\n",
        "Two common ways to create pair RDD:\n",
        " * From a list of key-value tuples\n",
        " * from a regular RDD"
      ],
      "metadata": {
        "slideshow": {
          "slide_type": "subslide"
        }
      }
    },
    {
      "cell_type": "markdown",
      "source": [
        "#### Create a Pair RDD from regular RDD"
      ],
      "metadata": {
        "slideshow": {
          "slide_type": "slide"
        }
      }
    },
    {
      "cell_type": "code",
      "source": [
        "\n",
        "rdd = sc.parallelize([\"b\", \"a\", \"c\"])\n",
        "sorted(rdd.map(lambda x: (x, 1)).collect())"
      ],
      "outputs": [
        {
          "output_type": "execute_result",
          "execution_count": 20,
          "data": {
            "text/plain": "[('a', 1), ('b', 1), ('c', 1)]"
          },
          "metadata": {}
        }
      ],
      "execution_count": 20,
      "metadata": {
        "slideshow": {
          "slide_type": "subslide"
        }
      }
    },
    {
      "cell_type": "markdown",
      "source": [
        "#### Create a Pair RDD from a list"
      ],
      "metadata": {
        "slideshow": {
          "slide_type": "slide"
        }
      }
    },
    {
      "cell_type": "code",
      "source": [
        "rdd = sc.parallelize([(1,\"a\"), (2,\"b\"), (3,\"c\")])\n",
        "rdd.collect()"
      ],
      "outputs": [
        {
          "output_type": "execute_result",
          "execution_count": 21,
          "data": {
            "text/plain": "[(1, 'a'), (2, 'b'), (3, 'c')]"
          },
          "metadata": {}
        }
      ],
      "execution_count": 21,
      "metadata": {
        "slideshow": {
          "slide_type": "subslide"
        }
      }
    },
    {
      "cell_type": "markdown",
      "source": [
        "### Transformations on pair RDDs\n",
        "All regular transformations work on pair RDD. Have to pass functions that operate on key value pairs rather than on individual elements"
      ],
      "metadata": {
        "slideshow": {
          "slide_type": "slide"
        }
      }
    },
    {
      "cell_type": "markdown",
      "source": [
        "#### reduceByKey(fun) - groups all the values with the same key."
      ],
      "metadata": {
        "slideshow": {
          "slide_type": "slide"
        }
      }
    },
    {
      "cell_type": "code",
      "source": [
        "rdd = sc.parallelize([(\"a\",1), (\"b\",2), (\"c\", 10),(\"a\", 2), (\"d\", 5), (\"a\", 4) ])\n",
        "rdd_reduceByKey = rdd.reduceByKey(lambda x, y: x+y )\n",
        "rdd_reduceByKey.collect()"
      ],
      "outputs": [
        {
          "output_type": "stream",
          "name": "stderr",
          "text": [
            "                                                                                \r"
          ]
        },
        {
          "output_type": "execute_result",
          "execution_count": 22,
          "data": {
            "text/plain": "[('a', 7), ('b', 2), ('c', 10), ('d', 5)]"
          },
          "metadata": {}
        }
      ],
      "execution_count": 22,
      "metadata": {
        "slideshow": {
          "slide_type": "subslide"
        }
      }
    },
    {
      "cell_type": "markdown",
      "source": [
        "#### sortByKey(fun) - Order RDD pair by key."
      ],
      "metadata": {
        "slideshow": {
          "slide_type": "slide"
        }
      }
    },
    {
      "cell_type": "code",
      "source": [
        "rdd = sc.parallelize([(\"a\",1), (\"c\",2), (\"b\", 10),(\"a\", 2), (\"d\", 5), (\"a\", 4) ])\n",
        "rdd_reduceByKey = rdd.reduceByKey(lambda x, y: x+y )\n",
        "rdd_reduceByKey.sortByKey(ascending = True).collect()"
      ],
      "outputs": [
        {
          "output_type": "execute_result",
          "execution_count": 23,
          "data": {
            "text/plain": "[('a', 7), ('b', 10), ('c', 2), ('d', 5)]"
          },
          "metadata": {}
        }
      ],
      "execution_count": 23,
      "metadata": {
        "slideshow": {
          "slide_type": "subslide"
        }
      }
    },
    {
      "cell_type": "markdown",
      "source": [
        "#### groupByKey( ) - Groups all the values with the same key in the pair "
      ],
      "metadata": {
        "slideshow": {
          "slide_type": "slide"
        }
      }
    },
    {
      "cell_type": "code",
      "source": [
        "rdd = sc.parallelize([(\"a\",1), (\"c\",2), (\"b\", 10),(\"a\", 2), (\"d\", 5), (\"a\", 4) ])\n",
        "rdd_groupByKey = rdd.groupByKey().collect()\n",
        "for letter, value in  rdd_groupByKey:\n",
        "    print (letter, list(value))"
      ],
      "outputs": [
        {
          "output_type": "stream",
          "name": "stdout",
          "text": [
            "a [1, 2, 4]\n",
            "c [2]\n",
            "b [10]\n",
            "d [5]\n"
          ]
        }
      ],
      "execution_count": 24,
      "metadata": {
        "slideshow": {
          "slide_type": "subslide"
        }
      }
    },
    {
      "cell_type": "markdown",
      "source": [
        "#### join( ) - transformation joins the two pair RDDs based on their key"
      ],
      "metadata": {
        "slideshow": {
          "slide_type": "slide"
        }
      }
    },
    {
      "cell_type": "code",
      "source": [
        "rdd01 = sc.parallelize([(\"a\",1), (\"b\", 5),(\"c\", 7) ])\n",
        "rdd02 = sc.parallelize([(\"a\",2), (\"b\", 3),(\"d\", 4) ])\n",
        "\n",
        "rdd01. join(rdd02).collect()\n"
      ],
      "outputs": [
        {
          "output_type": "execute_result",
          "execution_count": 25,
          "data": {
            "text/plain": "[('b', (5, 3)), ('a', (1, 2))]"
          },
          "metadata": {}
        }
      ],
      "execution_count": 25,
      "metadata": {
        "slideshow": {
          "slide_type": "subslide"
        }
      }
    },
    {
      "cell_type": "markdown",
      "source": [
        "#### countByKey( ) - action counts the number of elements for each key"
      ],
      "metadata": {
        "slideshow": {
          "slide_type": "slide"
        }
      }
    },
    {
      "cell_type": "code",
      "source": [
        "rdd = sc.parallelize([(\"a\",2), (\"b\", 4),(\"a\", 3) ])\n",
        "for key, val in  rdd.countByKey().items():\n",
        "    print (key, val)"
      ],
      "outputs": [
        {
          "output_type": "stream",
          "name": "stdout",
          "text": [
            "a 2\n",
            "b 1\n"
          ]
        }
      ],
      "execution_count": 26,
      "metadata": {
        "slideshow": {
          "slide_type": "subslide"
        }
      }
    },
    {
      "cell_type": "markdown",
      "source": [
        "#### collectAsMap( ) - action return the key-value pairs in the RDD as a dictionary"
      ],
      "metadata": {
        "slideshow": {
          "slide_type": "slide"
        }
      }
    },
    {
      "cell_type": "code",
      "source": [
        "rdd = sc.parallelize([(\"a\",2), (\"b\", 4),(\"c\", 3) ])\n",
        "rdd.collectAsMap()"
      ],
      "outputs": [
        {
          "output_type": "execute_result",
          "execution_count": 27,
          "data": {
            "text/plain": "{'a': 2, 'b': 4, 'c': 3}"
          },
          "metadata": {}
        }
      ],
      "execution_count": 27,
      "metadata": {
        "slideshow": {
          "slide_type": "subslide"
        }
      }
    }
  ],
  "metadata": {
    "celltoolbar": "Slideshow",
    "colab": {
      "authorship_tag": "ABX9TyPO1Js+wB+gf1zJ0Yn405Oz",
      "mount_file_id": "12ufX2tXkBxOM9c0k9m3sSpcS4BEMPh1H",
      "provenance": []
    },
    "kernelspec": {
      "display_name": "Python 3 (ipykernel)",
      "language": "python",
      "name": "python3"
    },
    "language_info": {
      "codemirror_mode": {
        "name": "ipython",
        "version": 3
      },
      "file_extension": ".py",
      "mimetype": "text/x-python",
      "name": "python",
      "nbconvert_exporter": "python",
      "pygments_lexer": "ipython3",
      "version": "3.9.12"
    },
    "nteract": {
      "version": "0.28.0"
    }
  },
  "nbformat": 4,
  "nbformat_minor": 4
}